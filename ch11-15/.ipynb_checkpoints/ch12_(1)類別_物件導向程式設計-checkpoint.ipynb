{
 "cells": [
  {
   "cell_type": "markdown",
   "metadata": {},
   "source": [
    "# ch12_(1)類別_物件導向程式設計"
   ]
  },
  {
   "cell_type": "markdown",
   "metadata": {},
   "source": [
    "本例子以銀行為例，說明類別觀念及操作類別的屬性及方法。<br>\n",
    "\n",
    "object.類別屬性<br>\n",
    "object.類別方法()\n"
   ]
  },
  {
   "cell_type": "code",
   "execution_count": 3,
   "metadata": {},
   "outputs": [
    {
     "name": "stdout",
     "output_type": "stream",
     "text": [
      "Taipei bank\n",
      "customers no.1\n"
     ]
    }
   ],
   "source": [
    "class Banks():\n",
    "    #定義銀行類別\n",
    "    title = 'Taipei bank'        #定義屬性\n",
    "    def motto(self):             #定義方法\n",
    "        return \"customers no.1\" \n",
    "    \n",
    "userbank = Banks()               #定義物件userbank\n",
    "print(userbank.title)\n",
    "print(userbank.motto())"
   ]
  },
  {
   "cell_type": "markdown",
   "metadata": {},
   "source": [
    "## 12-1. 類別的建構元(constructor)\n",
    "\n",
    "建立類別時有一個重要工作就是初始化類別，即建構元。<br>\n",
    "初始化類別事類別內建立一個初始化方法，這是一個特殊方法，當程式宣告類別的物件時將自動執行這個方法，在這個初始化的方法內可以執行一些屬性變數設定。"
   ]
  },
  {
   "cell_type": "code",
   "execution_count": 17,
   "metadata": {},
   "outputs": [
    {
     "name": "stdout",
     "output_type": "stream",
     "text": [
      "Wupizza\n",
      "wupizza 存款餘額為 1000\n"
     ]
    }
   ],
   "source": [
    "class Banks():\n",
    "    bank_name = \"Taipei Bank\"\n",
    "    def __init__(self,uname,money):  #初始化方法\n",
    "        self.name = uname            #設定存款者名字\n",
    "        self.balance = money         #設定所存的錢\n",
    "        \n",
    "    def get_balance(self):\n",
    "        return self.balance\n",
    "    \n",
    "wubank = Banks('wupizza',1000)\n",
    "\n",
    "print(wubank.name.title())\n",
    "\n",
    "print(wubank.name,\"存款餘額為\",wubank.get_balance())"
   ]
  },
  {
   "cell_type": "markdown",
   "metadata": {},
   "source": [
    "<解說> \n",
    "\n",
    "self是必要得，python在初始化時會自動傳入這個參數self，代表的是類別本身的物件，未來在類別內想要參照各屬性與函數執行運算皆要用self，可參考return self.balance。\n",
    "\n",
    "另外有get_balance這個方法，因為參數只有self，所以呼叫時wubank.get_balance()，不必有任何參數。"
   ]
  },
  {
   "cell_type": "code",
   "execution_count": 32,
   "metadata": {},
   "outputs": [
    {
     "name": "stdout",
     "output_type": "stream",
     "text": [
      "0\n",
      "\n",
      "\n",
      "pizza 存入了 1000\n",
      "1000\n",
      "\n",
      "\n",
      "pizza 提出了 100\n",
      "900\n"
     ]
    }
   ],
   "source": [
    "# 例子:建造一個銀行開戶及存、提款系統，讓pizza、dudu兩人開戶並存錢、提款。\n",
    "\n",
    "class Banks():\n",
    "    \n",
    "    def __init__(self,uname):\n",
    "        self.name = uname\n",
    "        self.balance = 0\n",
    "        self.bank_name = 'Taipei Bank'\n",
    "        \n",
    "        \n",
    "    def save_money(self,s_dollor):\n",
    "        self.balance += s_dollor\n",
    "        print(self.name,\"存入了\",s_dollor)\n",
    "    \n",
    "    def withdraw(self,w_dollor):\n",
    "        self.balance -= w_dollor\n",
    "        print(self.name,\"提出了\",w_dollor)\n",
    "    \n",
    "    def get_balance(self):\n",
    "        return self.balance\n",
    "\n",
    "    \n",
    "pizzabank = Banks('pizza')\n",
    "print(pizzabank.get_balance())\n",
    "\n",
    "print('\\n')\n",
    "\n",
    "pizzabank.save_money(1000)\n",
    "print(pizzabank.get_balance())\n",
    "\n",
    "print('\\n')\n",
    "\n",
    "pizzabank.withdraw(100)\n",
    "print(pizzabank.get_balance())"
   ]
  },
  {
   "cell_type": "markdown",
   "metadata": {},
   "source": [
    "## 12-2. 類別的訪問權限-封裝(encapsulation)\n",
    "\n",
    "像上述銀行的例子，類別中可讓外部引用的屬性及方法，稱為公有屬性及公有方法。<br>\n",
    "但是程式本身可讓外部直接修改類別內的屬性值，是一件非常危險的事情。<br>\n",
    "所以Python也提供私有屬性及私有方法，這觀念是類別外無法直接更改類別內的私有屬性，類別外也無法直接呼叫私有方法，這觀念就叫做封裝。\n",
    "\n",
    "但實質上，python是沒有私有屬性與方法的觀念的，因為高手仍可以使用其他方法取得所謂的私有屬性與方法。"
   ]
  },
  {
   "cell_type": "code",
   "execution_count": 35,
   "metadata": {},
   "outputs": [
    {
     "name": "stdout",
     "output_type": "stream",
     "text": [
      "0\n",
      "0\n"
     ]
    }
   ],
   "source": [
    "## 私有屬性: 在屬性名稱錢加上__\n",
    "\n",
    "\n",
    "class Banks():\n",
    "    \n",
    "    def __init__(self,uname):\n",
    "        self.__name = uname              #設定私有存款者名字\n",
    "        self.__balance = 0\n",
    "        self.__bank_name = 'Taipei Bank'\n",
    "        \n",
    "        \n",
    "    def save_money(self,s_dollor):\n",
    "        self.__balance += s_dollor\n",
    "        print(self.name,\"存入了\",s_dollor)\n",
    "    \n",
    "    def withdraw(self,w_dollor):\n",
    "        self.__balance -= w_dollor\n",
    "        print(self.name,\"提出了\",w_dollor)\n",
    "    \n",
    "    def get_balance(self):\n",
    "        print(self.__balance)\n",
    "    \n",
    "pizzabank = Banks('pizza')\n",
    "pizzabank.get_balance()\n",
    "pizzabank.balance = 1000\n",
    "pizzabank.get_balance()   #由此看得出pizzabank.balance = 1000無法去修改balance這屬性"
   ]
  },
  {
   "cell_type": "code",
   "execution_count": 37,
   "metadata": {},
   "outputs": [
    {
     "name": "stdout",
     "output_type": "stream",
     "text": [
      "0\n",
      "1000\n"
     ]
    }
   ],
   "source": [
    "## 破解私有屬性\n",
    "\n",
    "class Banks():\n",
    "    \n",
    "    def __init__(self,uname):\n",
    "        self.__name = uname              #設定私有存款者名字\n",
    "        self.__balance = 0\n",
    "        self.__bank_name = 'Taipei Bank'\n",
    "        \n",
    "        \n",
    "    def save_money(self,s_dollor):\n",
    "        self.__balance += s_dollor\n",
    "        print(self.name,\"存入了\",s_dollor)\n",
    "    \n",
    "    def withdraw(self,w_dollor):\n",
    "        self.__balance -= w_dollor\n",
    "        print(self.name,\"提出了\",w_dollor)\n",
    "    \n",
    "    def get_balance(self):\n",
    "        print(self.__balance)\n",
    "    \n",
    "pizzabank = Banks('pizza')\n",
    "pizzabank.get_balance()\n",
    "pizzabank._Banks__balance = 1000 #破解了私有屬性(利用物件名稱._類別名稱+私有屬性)\n",
    "pizzabank.get_balance()   "
   ]
  },
  {
   "cell_type": "code",
   "execution_count": 43,
   "metadata": {},
   "outputs": [
    {
     "name": "stdout",
     "output_type": "stream",
     "text": [
      "50 美金可兌換台幣 1485\n"
     ]
    }
   ],
   "source": [
    "## 私有方法:碰上換匯時，有些客戶的匯率可以較優惠，但這部分客戶是無法得知的，此時適合用私有方法處理\n",
    "\n",
    "class Banks():\n",
    "    \n",
    "    def __init__(self,uname):\n",
    "        self.__name = uname\n",
    "        self.__balance = 0\n",
    "        self.__bank_name = 'Taipei Bank'\n",
    "        self.__rate = 30                 #預設美金與台幣換匯比率\n",
    "        self.__service_charge = 0.01     #換匯的服務費\n",
    "        \n",
    "        \n",
    "    def save_money(self,s_dollor):\n",
    "        self.__balance += s_dollor\n",
    "        print(self.__name,\"存入了\",s_dollor)\n",
    "    \n",
    "    def withdraw(self,w_dollor):\n",
    "        self.__balance -= w_dollor\n",
    "        print(self.__name,\"提出了\",w_dollor)\n",
    "    \n",
    "    def get_balance(self):\n",
    "        print(self.__balance)\n",
    "        \n",
    "    def __calrate(self,usa_money):\n",
    "        return int(usa_money*self.__rate*(1-self.__service_charge))\n",
    "        \n",
    "    def usa_to_taiwan(self,usa_money):\n",
    "        self.result = self.__calrate(usa_money)\n",
    "        return self.result\n",
    "    \n",
    "    \n",
    "pizzabank = Banks('pizza')\n",
    "usadollor = 50\n",
    "print(usadollor,\"美金可兌換台幣\",pizzabank.usa_to_taiwan(usadollor))"
   ]
  },
  {
   "cell_type": "markdown",
   "metadata": {},
   "source": [
    "<解說>\n",
    "\n",
    "使用者呼叫公有方法usa_to_taiwan，而公有方法呼叫了私有方法__calrate，類別外無法呼叫使用。<br>\n",
    "這樣可以使私有方法中較敏感的資訊，例如本例子就是這個公式，不讓外部的人餐與這個數據。"
   ]
  },
  {
   "cell_type": "code",
   "execution_count": 46,
   "metadata": {},
   "outputs": [
    {
     "name": "stdout",
     "output_type": "stream",
     "text": [
      "50 美金可兌換台幣 1485\n",
      "\n",
      "\n",
      "1485\n"
     ]
    }
   ],
   "source": [
    "## 破解私有方法\n",
    "\n",
    "class Banks():\n",
    "    \n",
    "    def __init__(self,uname):\n",
    "        self.__name = uname\n",
    "        self.__balance = 0\n",
    "        self.__bank_name = 'Taipei Bank'\n",
    "        self.__rate = 30                 #預設美金與台幣換匯比率\n",
    "        self.__service_charge = 0.01     #換匯的服務費\n",
    "        \n",
    "        \n",
    "    def save_money(self,s_dollor):\n",
    "        self.__balance += s_dollor\n",
    "        print(self.__name,\"存入了\",s_dollor)\n",
    "    \n",
    "    def withdraw(self,w_dollor):\n",
    "        self.__balance -= w_dollor\n",
    "        print(self.__name,\"提出了\",w_dollor)\n",
    "    \n",
    "    def get_balance(self):\n",
    "        print(self.__balance)\n",
    "        \n",
    "    def __calrate(self,usa_money):\n",
    "        return int(usa_money*self.__rate*(1-self.__service_charge))\n",
    "        \n",
    "    def usa_to_taiwan(self,usa_money):\n",
    "        self.result = self.__calrate(usa_money)\n",
    "        return self.result\n",
    "    \n",
    "    \n",
    "pizzabank = Banks('pizza')\n",
    "usadollor = 50\n",
    "print(usadollor,\"美金可兌換台幣\",pizzabank.usa_to_taiwan(usadollor))\n",
    "\n",
    "print('\\n')\n",
    "\n",
    "print(pizzabank._Banks__calrate(50)) #呼叫私有方法直接計算匯率"
   ]
  }
 ],
 "metadata": {
  "kernelspec": {
   "display_name": "Python 3",
   "language": "python",
   "name": "python3"
  },
  "language_info": {
   "codemirror_mode": {
    "name": "ipython",
    "version": 3
   },
   "file_extension": ".py",
   "mimetype": "text/x-python",
   "name": "python",
   "nbconvert_exporter": "python",
   "pygments_lexer": "ipython3",
   "version": "3.6.3"
  }
 },
 "nbformat": 4,
 "nbformat_minor": 2
}
