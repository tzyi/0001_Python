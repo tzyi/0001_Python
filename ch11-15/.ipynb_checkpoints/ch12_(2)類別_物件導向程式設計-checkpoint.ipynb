{
 "cells": [
  {
   "cell_type": "markdown",
   "metadata": {},
   "source": [
    "# ch12_(2)類別_物件導向程式設計"
   ]
  },
  {
   "cell_type": "markdown",
   "metadata": {},
   "source": [
    "## 12-3. 從存取屬性看Python風格property()"
   ]
  },
  {
   "cell_type": "code",
   "execution_count": 2,
   "metadata": {},
   "outputs": [
    {
     "name": "stdout",
     "output_type": "stream",
     "text": [
      "50\n",
      "100\n"
     ]
    }
   ],
   "source": [
    "# 定義成績類別Score，這時外部可以列印及修改成績\n",
    "\n",
    "\n",
    "class Score():\n",
    "    def __init__(self,score):\n",
    "        self.score = score\n",
    "        \n",
    "stu1 = Score(50)\n",
    "\n",
    "print(stu1.score)\n",
    "stu1.score = 100\n",
    "print(stu1.score)"
   ]
  },
  {
   "cell_type": "code",
   "execution_count": 8,
   "metadata": {},
   "outputs": [
    {
     "name": "stdout",
     "output_type": "stream",
     "text": [
      "getter\n",
      "50\n",
      "\n",
      "\n",
      "setter\n",
      "\n",
      "\n",
      "getter\n",
      "80\n"
     ]
    }
   ],
   "source": [
    "# 由於外部可以隨意更改成績是危險的。\n",
    "# 所以將score設為私有屬性，設計含getter觀念的getter()和setter觀念的setter()存取分數，這時外部無法存取score。\n",
    "\n",
    "\n",
    "\n",
    "class Score():\n",
    "    def __init__(self,score):\n",
    "        self.__score = score\n",
    "        \n",
    "    def getter(self):\n",
    "        print('getter')\n",
    "        return self.__score\n",
    "    \n",
    "    def setter(self,set_score):\n",
    "        print('setter')\n",
    "        self.__score = set_score\n",
    "    \n",
    "    \n",
    "    \n",
    "stu1 = Score(50)\n",
    "print(stu1.getter())\n",
    "\n",
    "print('\\n')\n",
    "\n",
    "stu1.setter(80)\n",
    "\n",
    "print('\\n')\n",
    "\n",
    "print(stu1.getter())"
   ]
  },
  {
   "cell_type": "markdown",
   "metadata": {},
   "source": [
    "### 修改為python風格的property()方法"
   ]
  },
  {
   "cell_type": "code",
   "execution_count": 15,
   "metadata": {},
   "outputs": [
    {
     "name": "stdout",
     "output_type": "stream",
     "text": [
      "getter\n",
      "50\n",
      "\n",
      "\n",
      "setter\n",
      "\n",
      "\n",
      "getter\n",
      "90\n"
     ]
    }
   ],
   "source": [
    "# 留意property()，在這裡設定sc當作property()的傳回值，未來可以直接由sc存取私有屬性__score\n",
    "\n",
    "class Score():\n",
    "    def __init__(self,score):\n",
    "        self.__score = score\n",
    "        \n",
    "    def getter(self):\n",
    "        print('getter')\n",
    "        return self.__score\n",
    "    \n",
    "    def setter(self,set_score):\n",
    "        print('setter')\n",
    "        self.__score = set_score\n",
    "        \n",
    "    sc = property(getter,setter)  #Python風格\n",
    "    \n",
    "stu1 = Score(50)\n",
    "print(stu1.sc)  #相當於執行getter()\n",
    "\n",
    "print('\\n')\n",
    "\n",
    "stu1.sc = 90    #相當於執行setter()\n",
    "\n",
    "print('\\n')\n",
    "\n",
    "print(stu1.sc)"
   ]
  },
  {
   "cell_type": "code",
   "execution_count": 26,
   "metadata": {},
   "outputs": [
    {
     "name": "stdout",
     "output_type": "stream",
     "text": [
      "getter\n",
      "50\n",
      "\n",
      "\n",
      "setter\n",
      "\n",
      "\n",
      "getter\n",
      "10\n"
     ]
    }
   ],
   "source": [
    "# 跟上面程式一樣，上述寫法也可直接呼叫getter()、setter()\n",
    "\n",
    "class Score():\n",
    "    def __init__(self,score):\n",
    "        self.__score = score\n",
    "        \n",
    "    def getter(self):\n",
    "        print('getter')\n",
    "        return self.__score\n",
    "    \n",
    "    def setter(self,set_score):\n",
    "        print('setter')\n",
    "        self.__score = set_score\n",
    "        \n",
    "    sc = property(getter,setter)  #Python風格\n",
    "    \n",
    "stu1 = Score(50)\n",
    "\n",
    "print(stu1.getter())\n",
    "\n",
    "print('\\n')\n",
    "\n",
    "stu1.setter(10)\n",
    "\n",
    "print('\\n')\n",
    "\n",
    "print(stu1.getter())"
   ]
  },
  {
   "cell_type": "markdown",
   "metadata": {},
   "source": [
    "## 12-4. 裝飾器 @property\n",
    "\n",
    "延續前一節，我們可以使用 @property，首先將getter()和setter()方法的名稱全部改為sc()，然後在sc()方法前加上裝飾器:<br>\n",
    "    \n",
    "@property : 放在getter方法前<br>\n",
    "@sc.setter: 放在setter方法前<br>"
   ]
  },
  {
   "cell_type": "code",
   "execution_count": 21,
   "metadata": {},
   "outputs": [
    {
     "name": "stdout",
     "output_type": "stream",
     "text": [
      "getter\n",
      "50\n",
      "\n",
      "\n",
      "setter\n",
      "\n",
      "\n",
      "getter\n",
      "99\n"
     ]
    }
   ],
   "source": [
    "class Score():\n",
    "    def __init__(self,score):\n",
    "        self.__score = score\n",
    "    \n",
    "    @property\n",
    "    def sc(self):\n",
    "        print('getter')\n",
    "        return self.__score\n",
    "    \n",
    "    @sc.setter\n",
    "    def sc(self,score):\n",
    "        print('setter')\n",
    "        self.__score = score\n",
    "        \n",
    "stu1 = Score(50)\n",
    "print(stu1.sc)\n",
    "\n",
    "\n",
    "print('\\n')\n",
    "\n",
    "\n",
    "stu1.sc = 99\n",
    "\n",
    "print('\\n')\n",
    "\n",
    "print(stu1.sc)"
   ]
  },
  {
   "cell_type": "code",
   "execution_count": 30,
   "metadata": {},
   "outputs": [
    {
     "name": "stdout",
     "output_type": "stream",
     "text": [
      "81\n"
     ]
    }
   ],
   "source": [
    "# 應用:計算正方形面積\n",
    "\n",
    "class Square():\n",
    "    def __init__(self,len):\n",
    "        self.__len = len\n",
    "        \n",
    "    @property\n",
    "    def area(self):\n",
    "        return self.__len ** 2\n",
    "    \n",
    "sq = Square(9)\n",
    "\n",
    "#print(sq.area())\n",
    "print(sq.area)"
   ]
  },
  {
   "cell_type": "markdown",
   "metadata": {},
   "source": [
    "### <疑惑>這樣什麼時機用 @property比較好????\n",
    "\n",
    "參考連結: \n",
    "    \n",
    "http://funhacks.net/explore-python/Class/property.html<br>\n",
    "https://openhome.cc/Gossip/Python/Property.html<br>\n",
    "https://www.liaoxuefeng.com/wiki/897692888725344/923030547069856<br>\n",
    "    \n",
    "Ans: <br>\n",
    "@property 可把方法『变成』了属性，而未用裝飾器前的方法又略显复杂，没有直接用属性这么直接简单。<br>\n",
    "还记得装饰器（decorator）可以给函数动态加上功能吗？对于类的方法，装饰器一样起作用。Python内置的@property装饰器就是负责把一个方法变成属性调用的。<br>\n",
    "@property广泛应用在类的定义中，可以让调用者写出简短的代码，同时保证对参数进行必要的检查，这样，程序运行时就减少了出错的可能性"
   ]
  }
 ],
 "metadata": {
  "kernelspec": {
   "display_name": "Python 3",
   "language": "python",
   "name": "python3"
  },
  "language_info": {
   "codemirror_mode": {
    "name": "ipython",
    "version": 3
   },
   "file_extension": ".py",
   "mimetype": "text/x-python",
   "name": "python",
   "nbconvert_exporter": "python",
   "pygments_lexer": "ipython3",
   "version": "3.6.3"
  }
 },
 "nbformat": 4,
 "nbformat_minor": 2
}
