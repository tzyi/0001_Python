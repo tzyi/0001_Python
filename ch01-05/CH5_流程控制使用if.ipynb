{
 "cells": [
  {
   "cell_type": "markdown",
   "metadata": {},
   "source": [
    "# CH5_流程控制使用if"
   ]
  },
  {
   "cell_type": "markdown",
   "metadata": {},
   "source": [
    "> 5-1. 關係運算子<br>\n",
    "> 5-2. 邏輯運算子<br>\n",
    "> 5-3. if敘述<br>\n",
    "> 5-4. 巢狀if<br>\n",
    "> 5-5. 尚未設定變數值None<br>\n",
    "> 5-6. (TIPS) 深入理解python中的None<br>"
   ]
  },
  {
   "cell_type": "markdown",
   "metadata": {},
   "source": [
    "## 5-1. 關係運算子\n",
    "\n",
    "- \\>  大於\n",
    "- \\>= 大於等於\n",
    "- <  小於\n",
    "- <= 小於等於\n",
    "- == 等於\n",
    "- != 不等於"
   ]
  },
  {
   "cell_type": "markdown",
   "metadata": {},
   "source": [
    "## 5-2. 邏輯運算子\n",
    "\n",
    "or/and/not\n",
    "\n"
   ]
  },
  {
   "cell_type": "code",
   "execution_count": 2,
   "metadata": {},
   "outputs": [
    {
     "name": "stdout",
     "output_type": "stream",
     "text": [
      "True\n",
      "False\n"
     ]
    }
   ],
   "source": [
    "x=(10>8) and (10>5)\n",
    "print(x)\n",
    "x=(10>8) and (10>25)\n",
    "print(x)"
   ]
  },
  {
   "cell_type": "code",
   "execution_count": 3,
   "metadata": {},
   "outputs": [
    {
     "name": "stdout",
     "output_type": "stream",
     "text": [
      "True\n",
      "False\n"
     ]
    }
   ],
   "source": [
    "x=(10>8) or (10>25)\n",
    "print(x)\n",
    "x=(10>28) or (10>25)\n",
    "print(x)"
   ]
  },
  {
   "cell_type": "code",
   "execution_count": 4,
   "metadata": {},
   "outputs": [
    {
     "name": "stdout",
     "output_type": "stream",
     "text": [
      "False\n",
      "True\n"
     ]
    }
   ],
   "source": [
    "x=not(10>8)\n",
    "print(x)\n",
    "x=not(10<8)\n",
    "print(x)"
   ]
  },
  {
   "cell_type": "markdown",
   "metadata": {},
   "source": [
    "## 5-3.if敘述"
   ]
  },
  {
   "cell_type": "code",
   "execution_count": 8,
   "metadata": {},
   "outputs": [
    {
     "name": "stdout",
     "output_type": "stream",
     "text": [
      "Please input your score: 91\n",
      "A\n"
     ]
    }
   ],
   "source": [
    "## ex:請輸入分數，將分級ABCD等級\n",
    "\n",
    "score=int(input(\"Please input your score: \"))\n",
    "if (score >= 90):\n",
    "    print(\"A\")\n",
    "elif (score >= 80):\n",
    "    print(\"B\")\n",
    "elif (score >=60):\n",
    "    print(\"C\")\n",
    "else:\n",
    "    print(\"D\")"
   ]
  },
  {
   "cell_type": "code",
   "execution_count": 11,
   "metadata": {},
   "outputs": [
    {
     "name": "stdout",
     "output_type": "stream",
     "text": [
      "判斷字元類別機器\n",
      "請輸入字元: 吳\n",
      "吳這是特殊字元\n"
     ]
    }
   ],
   "source": [
    "## ex:要求使用者輸入字元，並且會告訴使用者輸入的是大寫字元、小寫字元、阿拉伯數字或特殊字元\n",
    "## 利用ord()，轉為unicode值判斷\n",
    "\n",
    "print(\"判斷字元類別機器\")\n",
    "ch = input(\"請輸入字元: \")\n",
    "\n",
    "if (ord(ch) >= ord(\"A\") and ord(ch) <= ord(\"Z\")):\n",
    "    print(\"{}這是大寫字元\".format(ch))\n",
    "elif (ord(ch) >= ord(\"a\") and ord(ch) <= ord(\"z\")):\n",
    "    print(\"{}這是小寫字元\".format(ch))\n",
    "elif (ord(ch) >= ord(\"0\") and ord(ch) <= ord(\"9\")):\n",
    "    print(\"{}這是阿拉伯數字\".format(ch))\n",
    "else:\n",
    "    print(\"{}這是特殊字元\".format(ch))"
   ]
  },
  {
   "cell_type": "markdown",
   "metadata": {},
   "source": [
    "## 5-4. 巢狀if"
   ]
  },
  {
   "cell_type": "code",
   "execution_count": 17,
   "metadata": {},
   "outputs": [
    {
     "name": "stdout",
     "output_type": "stream",
     "text": [
      "請輸入年分: 2020\n",
      "2020年是閏年\n"
     ]
    }
   ],
   "source": [
    "## ex:判斷為平年還閏年，閏年條件首先可被4整除(相當於沒餘數)，這條件成立還必須除以100時餘數不為0或除以400時餘數為0，當兩個條件成立，即為閏年。\n",
    "\n",
    "year=int(input(\"請輸入年分: \"))\n",
    "\n",
    "if (year%4==0):\n",
    "    if (year%100!=0 or year%400==0):\n",
    "        print(\"{}年是閏年\".format(year))\n",
    "    else:\n",
    "        print(\"{}年是平年\".format(year))\n",
    "else:\n",
    "    print(\"{}年是平年\".format(year))"
   ]
  },
  {
   "cell_type": "markdown",
   "metadata": {},
   "source": [
    "## 5-5. 尚未設定變數值None"
   ]
  },
  {
   "cell_type": "markdown",
   "metadata": {},
   "source": [
    "有人喜歡將所有變數先一次給予定義，在尚未用到此變數時，先設定這個變數的值為None。<br>\n",
    "此時若用type()了解他的類別時，將顯示NoneType。"
   ]
  },
  {
   "cell_type": "code",
   "execution_count": 18,
   "metadata": {},
   "outputs": [
    {
     "name": "stdout",
     "output_type": "stream",
     "text": [
      "None\n",
      "<class 'NoneType'>\n"
     ]
    }
   ],
   "source": [
    "x=None\n",
    "print(x)\n",
    "print(type(x))"
   ]
  },
  {
   "cell_type": "code",
   "execution_count": 20,
   "metadata": {},
   "outputs": [
    {
     "name": "stdout",
     "output_type": "stream",
     "text": [
      "<class 'NoneType'>\n",
      "<class 'str'>\n"
     ]
    }
   ],
   "source": [
    "## <TIPS> None與Null(空字符)的差別\n",
    "\n",
    "x=None\n",
    "print(type(x))\n",
    "\n",
    "x=\"\"\n",
    "print(type(x))"
   ]
  },
  {
   "cell_type": "code",
   "execution_count": 21,
   "metadata": {},
   "outputs": [
    {
     "name": "stdout",
     "output_type": "stream",
     "text": [
      "ff is not defined\n"
     ]
    }
   ],
   "source": [
    "## <TIPS> None判断的时候 均是False\n",
    "\n",
    "x=None\n",
    "if x:\n",
    "    print(\"ff is defined\")\n",
    "else:\n",
    "    print(\"ff is not defined\")"
   ]
  },
  {
   "cell_type": "code",
   "execution_count": 40,
   "metadata": {},
   "outputs": [
    {
     "name": "stdout",
     "output_type": "stream",
     "text": [
      "ff is defined\n"
     ]
    }
   ],
   "source": [
    "x=None\n",
    "if x is None:\n",
    "    print(\"ff is defined\")\n",
    "else:\n",
    "    print(\"ff is not defined\")"
   ]
  },
  {
   "cell_type": "markdown",
   "metadata": {},
   "source": [
    "## 5-6. (TIPS) 深入理解python中的None"
   ]
  },
  {
   "cell_type": "code",
   "execution_count": 24,
   "metadata": {},
   "outputs": [
    {
     "name": "stdout",
     "output_type": "stream",
     "text": [
      "list is []\n"
     ]
    }
   ],
   "source": [
    "## <TIPS> 在python中判断一个对象是否为空时，我曾经这样写代码:\n",
    "## https://blog.csdn.net/qq_33094993/article/details/53386078\n",
    "\n",
    "list=[]\n",
    "if list is not None:\n",
    "    print(\"list is %s\"%(list))\n",
    "else:\n",
    "    print(\"list is NULL\")\n",
    "    \n",
    "## 从上面的例子可以看出list为空应该打印的是：list is NULL ，但是实际的结果不是，这是为什么呢？ \n",
    "## 因為，Null跟None是不一樣的，由下列說明"
   ]
  },
  {
   "cell_type": "markdown",
   "metadata": {},
   "source": [
    "#### 首先，我们来学习一下python中那些形式的数据为空。\n",
    "\n",
    "- 常量None\n",
    "- 常量False\n",
    "- 空的字典，列表，set，tuple。\n",
    "- 数值为0，0L，0.0"
   ]
  },
  {
   "cell_type": "code",
   "execution_count": 28,
   "metadata": {},
   "outputs": [
    {
     "name": "stdout",
     "output_type": "stream",
     "text": [
      "list is NULL\n"
     ]
    }
   ],
   "source": [
    "## 常量False\n",
    "\n",
    "list=[]\n",
    "if False:\n",
    "    print(\"list is %s\"  %(list))\n",
    "else:\n",
    "    print(\"list is NULL\")"
   ]
  },
  {
   "cell_type": "code",
   "execution_count": 32,
   "metadata": {},
   "outputs": [
    {
     "name": "stdout",
     "output_type": "stream",
     "text": [
      "list is NULL\n"
     ]
    }
   ],
   "source": [
    "## 空的字典，列表，set，tuple。\n",
    "list=[]\n",
    "if list:\n",
    "    print(\"list is %s\"  %(list))\n",
    "else:\n",
    "    print(\"list is NULL\")"
   ]
  },
  {
   "cell_type": "code",
   "execution_count": 33,
   "metadata": {},
   "outputs": [
    {
     "name": "stdout",
     "output_type": "stream",
     "text": [
      "list is NULL\n"
     ]
    }
   ],
   "source": [
    "## 常量None\n",
    "\n",
    "list=[]\n",
    "if None:\n",
    "    print(\"list is %s\"  %(list))\n",
    "else:\n",
    "    print(\"list is NULL\")"
   ]
  },
  {
   "cell_type": "code",
   "execution_count": 34,
   "metadata": {},
   "outputs": [
    {
     "name": "stdout",
     "output_type": "stream",
     "text": [
      "list is NULL\n"
     ]
    }
   ],
   "source": [
    "## 数值为0，0L，0.0\n",
    "\n",
    "list=[]\n",
    "if 0:\n",
    "    print(\"list is %s\"  %(list))\n",
    "else:\n",
    "    print(\"list is NULL\")"
   ]
  },
  {
   "cell_type": "markdown",
   "metadata": {},
   "source": [
    "打印结果均为：list is NULL <br>\n",
    "所以在这里可以看出python中的None常量的特殊性： <br>\n",
    "它既不是0，也不是False，也不是空字符串。它只是一个空值的对象，也就是一个空的对象，只是没有赋值而已。 <br>\n",
    "所以正确判断一个对象是否为空就应该采用这样的格式：<br>\n"
   ]
  },
  {
   "cell_type": "code",
   "execution_count": 35,
   "metadata": {},
   "outputs": [
    {
     "name": "stdout",
     "output_type": "stream",
     "text": [
      "list is NULL\n"
     ]
    }
   ],
   "source": [
    "list=[]\n",
    "if list:\n",
    "    print(\"list is %s\"  %(list))\n",
    "else:\n",
    "    print(\"list is NULL\" )"
   ]
  },
  {
   "cell_type": "markdown",
   "metadata": {},
   "source": [
    "那怎么去判断一个字符串为空呢？"
   ]
  },
  {
   "cell_type": "code",
   "execution_count": 39,
   "metadata": {},
   "outputs": [
    {
     "name": "stdout",
     "output_type": "stream",
     "text": [
      "0\n",
      "I love python\n"
     ]
    }
   ],
   "source": [
    "str1=\"\"\n",
    "if str1:  ##不為空時\n",
    "    print(len(str1))\n",
    "    print(\"hello world\")\n",
    "else:\n",
    "    print(len(str1))\n",
    "    print(\"I love python\")"
   ]
  },
  {
   "cell_type": "code",
   "execution_count": null,
   "metadata": {},
   "outputs": [],
   "source": []
  }
 ],
 "metadata": {
  "kernelspec": {
   "display_name": "Python 3",
   "language": "python",
   "name": "python3"
  },
  "language_info": {
   "codemirror_mode": {
    "name": "ipython",
    "version": 3
   },
   "file_extension": ".py",
   "mimetype": "text/x-python",
   "name": "python",
   "nbconvert_exporter": "python",
   "pygments_lexer": "ipython3",
   "version": "3.6.3"
  }
 },
 "nbformat": 4,
 "nbformat_minor": 2
}
