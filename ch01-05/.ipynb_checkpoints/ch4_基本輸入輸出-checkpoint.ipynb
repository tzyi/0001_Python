{
 "cells": [
  {
   "cell_type": "markdown",
   "metadata": {},
   "source": [
    "# ch4_基本輸入輸出"
   ]
  },
  {
   "cell_type": "markdown",
   "metadata": {},
   "source": [
    "> 1. print()格式化用法\n",
    "> 2. 輸出資料到檔案\n",
    "> 3. 輸入資料input()"
   ]
  },
  {
   "cell_type": "markdown",
   "metadata": {},
   "source": [
    "## 1.print()格式化用法"
   ]
  },
  {
   "cell_type": "markdown",
   "metadata": {},
   "source": [
    "## 1-1. print()基本介紹\n",
    "\n",
    "print(value,sep=\" \",end=\"\\n\",file=sys.stout,flush=False)\n",
    "\n",
    "- value:要輸出的值\n",
    "- sep:當書處多筆資料時，用什麼隔開\n",
    "- end:輸出結束所插入的字元，預設是換行\n",
    "- file:資料輸出位置，sys.stout就是螢幕\n",
    "- flush:是否清除資料流的緩衝區，預設是不清除"
   ]
  },
  {
   "cell_type": "code",
   "execution_count": 7,
   "metadata": {},
   "outputs": [
    {
     "name": "stdout",
     "output_type": "stream",
     "text": [
      "god &&& damn\n"
     ]
    }
   ],
   "source": [
    "a='god'\n",
    "b='damn'\n",
    "\n",
    "\n",
    "print(a,b,sep=\" &&& \")"
   ]
  },
  {
   "cell_type": "code",
   "execution_count": 10,
   "metadata": {},
   "outputs": [
    {
     "name": "stderr",
     "output_type": "stream",
     "text": [
      "hello world!\n"
     ]
    }
   ],
   "source": [
    "# 我们也可以输出到错误输出流，例如：\n",
    "import sys\n",
    "print('hello world!', file=sys.stderr)"
   ]
  },
  {
   "cell_type": "markdown",
   "metadata": {},
   "source": [
    "## 1-2.格式化輸出\n",
    "\n",
    "print(\"輸出格式區\" % \"變數區\")\n",
    "\n",
    "- %d:整數\n",
    "- %f:浮點數\n",
    "- %s:字串\n",
    "<br><br>\n",
    "\n",
    "- %o:8進位\n",
    "- %x:16進位"
   ]
  },
  {
   "cell_type": "code",
   "execution_count": 20,
   "metadata": {},
   "outputs": [
    {
     "name": "stdout",
     "output_type": "stream",
     "text": [
      "輸出整數:83\n",
      "輸出浮點數:83.990000\n",
      "輸出字串:83.99\n",
      "\n",
      "\n",
      "143,63\n"
     ]
    }
   ],
   "source": [
    "a=83.99\n",
    "\n",
    "print(\"輸出整數:%d\" % (a))\n",
    "print(\"輸出浮點數:%f\" % (a))\n",
    "print(\"輸出字串:%s\" % (a))\n",
    "\n",
    "print('\\n')\n",
    "\n",
    "b=99\n",
    "print(\"%o,%x\" % (b,b))\n",
    "#print(\"%x\" % (b))"
   ]
  },
  {
   "cell_type": "markdown",
   "metadata": {},
   "source": [
    "## 1-3.精準控制格式化輸出\n",
    "\n",
    "- %+/-nd:整數\n",
    "- %+/-m.nf:浮點數\n",
    "- %+/-ns:字串\n",
    "    \n",
    "    \n",
    "對浮點數來說，m是保留多少格數供輸出(含小數點)，n則是小數點資料保留格數。\n",
    "\n",
    "其他資料格式，m代表保留多少格數，若保留格數不足，則完整輸出，若保留格數太多，資料會向右對齊。"
   ]
  },
  {
   "cell_type": "code",
   "execution_count": 27,
   "metadata": {},
   "outputs": [
    {
     "name": "stdout",
     "output_type": "stream",
     "text": [
      "/    99/\n",
      "##############################################\n",
      "   100\n",
      " 100.0\n",
      "100.00\n",
      "99.999\n",
      "99.9990\n",
      "99.99900\n",
      "\n",
      "\n",
      " 100\n",
      "100.0\n",
      "100.00\n",
      "99.999\n",
      "99.9990\n",
      "99.99900\n"
     ]
    }
   ],
   "source": [
    "x=99\n",
    "print(\"/%6d/\" % (x))\n",
    "\n",
    "print(\"##############################################\")\n",
    "\n",
    "y=99.999\n",
    "print(\"%6.0f\" %(y))\n",
    "print(\"%6.1f\" %(y))\n",
    "print(\"%6.2f\" %(y))\n",
    "print(\"%6.3f\" %(y))\n",
    "print(\"%6.4f\" %(y))\n",
    "print(\"%6.5f\" %(y))\n",
    "\n",
    "print('\\n')\n",
    "\n",
    "print(\"%4.0f\" % (y))\n",
    "print(\"%4.1f\" % (y))\n",
    "print(\"%4.2f\" % (y))\n",
    "print(\"%4.3f\" % (y))\n",
    "print(\"%4.4f\" % (y))\n",
    "print(\"%4.5f\" % (y))"
   ]
  },
  {
   "cell_type": "markdown",
   "metadata": {},
   "source": [
    "## 1-4. format()\n",
    "\n",
    "print(\"輸出格式區\".format(變數1,變數2.....))"
   ]
  },
  {
   "cell_type": "code",
   "execution_count": 29,
   "metadata": {},
   "outputs": [
    {
     "name": "stdout",
     "output_type": "stream",
     "text": [
      "吳披薩的分數是99\n"
     ]
    }
   ],
   "source": [
    "score=99\n",
    "student='吳披薩'\n",
    "\n",
    "print(\"{}的分數是{}\".format(student,score))"
   ]
  },
  {
   "cell_type": "markdown",
   "metadata": {},
   "source": [
    "## 1-5. 無聊操作"
   ]
  },
  {
   "cell_type": "code",
   "execution_count": 31,
   "metadata": {},
   "outputs": [
    {
     "name": "stdout",
     "output_type": "stream",
     "text": [
      "pizzapizzapizzapizzapizzapizzapizzapizzapizzapizzapizzapizzapizzapizzapizzapizzapizzapizzapizzapizzapizzapizzapizzapizzapizzapizzapizzapizzapizzapizzapizzapizzapizzapizzapizzapizzapizzapizzapizzapizzapizzapizzapizzapizzapizzapizzapizzapizzapizzapizzapizzapizzapizzapizzapizzapizzapizzapizzapizzapizzapizzapizzapizzapizzapizzapizzapizzapizzapizzapizzapizzapizzapizzapizzapizzapizzapizzapizzapizzapizzapizzapizzapizzapizzapizzapizzapizzapizzapizzapizzapizzapizzapizzapizzapizzapizzapizzapizzapizzapizza\n"
     ]
    }
   ],
   "source": [
    "a='pizza'*100\n",
    "print(a)"
   ]
  },
  {
   "cell_type": "markdown",
   "metadata": {},
   "source": [
    "##################################################################################################"
   ]
  },
  {
   "cell_type": "markdown",
   "metadata": {},
   "source": [
    "## 2.輸出資料到檔案"
   ]
  },
  {
   "cell_type": "markdown",
   "metadata": {},
   "source": [
    "## 2-1.開啟一個檔案\n",
    "\n",
    "open()可以開啟一個檔案供讀寫:\n",
    "    \n",
    "file_Obj = open(file,mode=\"r\")\n",
    "開啟檔案寫完後，記得要關閉物件file_Obj.close()才可到系統看到產生的檔案。\n",
    "\n",
    "- file_Obj:檔案物件，可自行取名字\n",
    "- file:用字串列出欲開啟的檔案\n",
    "- mode:\n",
    "\n",
    "| 模式 | 說明 |\n",
    "|--|--|\n",
    "| r | 預設，開啟檔案供讀取 |\n",
    "| w | 開啟檔案供寫入，若原先檔案有內容會被覆蓋 |\n",
    "| a | 開啟檔案供寫入，若原先檔案有內容會在後面附加 |\n",
    "| x | 開啟檔案\"一個新檔案\"供寫入，若檔案已存在會報錯 |\n",
    "| b | 開啟二進位檔案模式 |\n",
    "| t | 開啟文字檔案模式，預設 |\n",
    "| \\+ | 開啟檔案供更新用 |"
   ]
  },
  {
   "cell_type": "code",
   "execution_count": 37,
   "metadata": {},
   "outputs": [],
   "source": [
    "# 將這段執行兩次，可看到差異\n",
    "file_w1 = open(\"open_test.txt\",mode=\"w\")\n",
    "print(\"pizza is my dog.\",file=file_w1)\n",
    "file_w1.close()\n",
    "\n",
    "file_w2 = open(\"open_test2.txt\",mode=\"a\")  \n",
    "print(\"pizza is my dog.\",file=file_w2)\n",
    "file_w2.close()"
   ]
  },
  {
   "cell_type": "markdown",
   "metadata": {},
   "source": [
    "#######################################################################################################"
   ]
  },
  {
   "cell_type": "markdown",
   "metadata": {},
   "source": [
    "## 3.輸入資料input()"
   ]
  },
  {
   "cell_type": "code",
   "execution_count": 38,
   "metadata": {},
   "outputs": [
    {
     "name": "stdout",
     "output_type": "stream",
     "text": [
      "輸入一個國家:台灣\n",
      "台灣\n"
     ]
    }
   ],
   "source": [
    "a = input(\"輸入一個國家:\")\n",
    "print(a)"
   ]
  },
  {
   "cell_type": "code",
   "execution_count": 41,
   "metadata": {},
   "outputs": [
    {
     "data": {
      "text/plain": [
       "['In',\n",
       " 'Out',\n",
       " '_',\n",
       " '_39',\n",
       " '_40',\n",
       " '__',\n",
       " '___',\n",
       " '__builtin__',\n",
       " '__builtins__',\n",
       " '__doc__',\n",
       " '__loader__',\n",
       " '__name__',\n",
       " '__package__',\n",
       " '__spec__',\n",
       " '_dh',\n",
       " '_i',\n",
       " '_i1',\n",
       " '_i10',\n",
       " '_i11',\n",
       " '_i12',\n",
       " '_i13',\n",
       " '_i14',\n",
       " '_i15',\n",
       " '_i16',\n",
       " '_i17',\n",
       " '_i18',\n",
       " '_i19',\n",
       " '_i2',\n",
       " '_i20',\n",
       " '_i21',\n",
       " '_i22',\n",
       " '_i23',\n",
       " '_i24',\n",
       " '_i25',\n",
       " '_i26',\n",
       " '_i27',\n",
       " '_i28',\n",
       " '_i29',\n",
       " '_i3',\n",
       " '_i30',\n",
       " '_i31',\n",
       " '_i32',\n",
       " '_i33',\n",
       " '_i34',\n",
       " '_i35',\n",
       " '_i36',\n",
       " '_i37',\n",
       " '_i38',\n",
       " '_i39',\n",
       " '_i4',\n",
       " '_i40',\n",
       " '_i41',\n",
       " '_i5',\n",
       " '_i6',\n",
       " '_i7',\n",
       " '_i8',\n",
       " '_i9',\n",
       " '_ih',\n",
       " '_ii',\n",
       " '_iii',\n",
       " '_oh',\n",
       " 'a',\n",
       " 'b',\n",
       " 'exit',\n",
       " 'file_w1',\n",
       " 'file_w2',\n",
       " 'file_write1',\n",
       " 'get_ipython',\n",
       " 'quit',\n",
       " 'score',\n",
       " 'str1',\n",
       " 'student',\n",
       " 'sys',\n",
       " 'x',\n",
       " 'y']"
      ]
     },
     "execution_count": 41,
     "metadata": {},
     "output_type": "execute_result"
    }
   ],
   "source": [
    "dir()"
   ]
  },
  {
   "cell_type": "code",
   "execution_count": 42,
   "metadata": {},
   "outputs": [
    {
     "data": {
      "text/plain": [
       "['ArithmeticError',\n",
       " 'AssertionError',\n",
       " 'AttributeError',\n",
       " 'BaseException',\n",
       " 'BlockingIOError',\n",
       " 'BrokenPipeError',\n",
       " 'BufferError',\n",
       " 'BytesWarning',\n",
       " 'ChildProcessError',\n",
       " 'ConnectionAbortedError',\n",
       " 'ConnectionError',\n",
       " 'ConnectionRefusedError',\n",
       " 'ConnectionResetError',\n",
       " 'DeprecationWarning',\n",
       " 'EOFError',\n",
       " 'Ellipsis',\n",
       " 'EnvironmentError',\n",
       " 'Exception',\n",
       " 'False',\n",
       " 'FileExistsError',\n",
       " 'FileNotFoundError',\n",
       " 'FloatingPointError',\n",
       " 'FutureWarning',\n",
       " 'GeneratorExit',\n",
       " 'IOError',\n",
       " 'ImportError',\n",
       " 'ImportWarning',\n",
       " 'IndentationError',\n",
       " 'IndexError',\n",
       " 'InterruptedError',\n",
       " 'IsADirectoryError',\n",
       " 'KeyError',\n",
       " 'KeyboardInterrupt',\n",
       " 'LookupError',\n",
       " 'MemoryError',\n",
       " 'ModuleNotFoundError',\n",
       " 'NameError',\n",
       " 'None',\n",
       " 'NotADirectoryError',\n",
       " 'NotImplemented',\n",
       " 'NotImplementedError',\n",
       " 'OSError',\n",
       " 'OverflowError',\n",
       " 'PendingDeprecationWarning',\n",
       " 'PermissionError',\n",
       " 'ProcessLookupError',\n",
       " 'RecursionError',\n",
       " 'ReferenceError',\n",
       " 'ResourceWarning',\n",
       " 'RuntimeError',\n",
       " 'RuntimeWarning',\n",
       " 'StopAsyncIteration',\n",
       " 'StopIteration',\n",
       " 'SyntaxError',\n",
       " 'SyntaxWarning',\n",
       " 'SystemError',\n",
       " 'SystemExit',\n",
       " 'TabError',\n",
       " 'TimeoutError',\n",
       " 'True',\n",
       " 'TypeError',\n",
       " 'UnboundLocalError',\n",
       " 'UnicodeDecodeError',\n",
       " 'UnicodeEncodeError',\n",
       " 'UnicodeError',\n",
       " 'UnicodeTranslateError',\n",
       " 'UnicodeWarning',\n",
       " 'UserWarning',\n",
       " 'ValueError',\n",
       " 'Warning',\n",
       " 'ZeroDivisionError',\n",
       " '__IPYTHON__',\n",
       " '__build_class__',\n",
       " '__debug__',\n",
       " '__doc__',\n",
       " '__import__',\n",
       " '__loader__',\n",
       " '__name__',\n",
       " '__package__',\n",
       " '__spec__',\n",
       " 'abs',\n",
       " 'all',\n",
       " 'any',\n",
       " 'ascii',\n",
       " 'bin',\n",
       " 'bool',\n",
       " 'bytearray',\n",
       " 'bytes',\n",
       " 'callable',\n",
       " 'chr',\n",
       " 'classmethod',\n",
       " 'compile',\n",
       " 'complex',\n",
       " 'copyright',\n",
       " 'credits',\n",
       " 'delattr',\n",
       " 'dict',\n",
       " 'dir',\n",
       " 'display',\n",
       " 'divmod',\n",
       " 'enumerate',\n",
       " 'eval',\n",
       " 'exec',\n",
       " 'filter',\n",
       " 'float',\n",
       " 'format',\n",
       " 'frozenset',\n",
       " 'get_ipython',\n",
       " 'getattr',\n",
       " 'globals',\n",
       " 'hasattr',\n",
       " 'hash',\n",
       " 'help',\n",
       " 'hex',\n",
       " 'id',\n",
       " 'input',\n",
       " 'int',\n",
       " 'isinstance',\n",
       " 'issubclass',\n",
       " 'iter',\n",
       " 'len',\n",
       " 'license',\n",
       " 'list',\n",
       " 'locals',\n",
       " 'map',\n",
       " 'max',\n",
       " 'memoryview',\n",
       " 'min',\n",
       " 'next',\n",
       " 'object',\n",
       " 'oct',\n",
       " 'open',\n",
       " 'ord',\n",
       " 'pow',\n",
       " 'print',\n",
       " 'property',\n",
       " 'range',\n",
       " 'repr',\n",
       " 'reversed',\n",
       " 'round',\n",
       " 'set',\n",
       " 'setattr',\n",
       " 'slice',\n",
       " 'sorted',\n",
       " 'staticmethod',\n",
       " 'str',\n",
       " 'sum',\n",
       " 'super',\n",
       " 'tuple',\n",
       " 'type',\n",
       " 'vars',\n",
       " 'zip']"
      ]
     },
     "execution_count": 42,
     "metadata": {},
     "output_type": "execute_result"
    }
   ],
   "source": [
    "# 列出python內建函數\n",
    "dir(__builtins__)"
   ]
  },
  {
   "cell_type": "code",
   "execution_count": 43,
   "metadata": {},
   "outputs": [
    {
     "name": "stdout",
     "output_type": "stream",
     "text": [
      "Help on built-in function round in module builtins:\n",
      "\n",
      "round(...)\n",
      "    round(number[, ndigits]) -> number\n",
      "    \n",
      "    Round a number to a given precision in decimal digits (default 0 digits).\n",
      "    This returns an int when called with one argument, otherwise the\n",
      "    same type as the number. ndigits may be negative.\n",
      "\n"
     ]
    }
   ],
   "source": [
    "help(round)"
   ]
  },
  {
   "cell_type": "code",
   "execution_count": null,
   "metadata": {},
   "outputs": [],
   "source": []
  }
 ],
 "metadata": {
  "kernelspec": {
   "display_name": "Python 3",
   "language": "python",
   "name": "python3"
  },
  "language_info": {
   "codemirror_mode": {
    "name": "ipython",
    "version": 3
   },
   "file_extension": ".py",
   "mimetype": "text/x-python",
   "name": "python",
   "nbconvert_exporter": "python",
   "pygments_lexer": "ipython3",
   "version": "3.6.3"
  }
 },
 "nbformat": 4,
 "nbformat_minor": 2
}
