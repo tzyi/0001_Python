{
 "cells": [
  {
   "cell_type": "markdown",
   "metadata": {},
   "source": [
    "# ch3_python的基本資料型態\n",
    "\n",
    "> 1. 數值資料\n",
    "> 2. 布林資料\n",
    "> 3. 字串"
   ]
  },
  {
   "cell_type": "markdown",
   "metadata": {},
   "source": [
    "## 1.數值資料"
   ]
  },
  {
   "cell_type": "markdown",
   "metadata": {},
   "source": [
    "## 1-1.各種進位 二進位bin()、八進位oct()、十六進位hex()\n",
    "\n",
    "python中凡是0b開頭的數字，代表這是一個二進位的整數。<br>\n",
    "python中凡是0o開頭的數字，代表這是一個八進位的整數。<br>\n",
    "python中凡是0x開頭的數字，代表這是一個十六進位的整數。<br>"
   ]
  },
  {
   "cell_type": "code",
   "execution_count": 5,
   "metadata": {},
   "outputs": [
    {
     "name": "stdout",
     "output_type": "stream",
     "text": [
      "0b1101\n",
      "0o15\n",
      "0xd\n"
     ]
    }
   ],
   "source": [
    "x = 13\n",
    "print(bin(x))\n",
    "print(oct(x))\n",
    "print(hex(x))"
   ]
  },
  {
   "cell_type": "code",
   "execution_count": 4,
   "metadata": {},
   "outputs": [
    {
     "ename": "TypeError",
     "evalue": "'float' object cannot be interpreted as an integer",
     "output_type": "error",
     "traceback": [
      "\u001b[0;31m---------------------------------------------------------------------------\u001b[0m",
      "\u001b[0;31mTypeError\u001b[0m                                 Traceback (most recent call last)",
      "\u001b[0;32m<ipython-input-4-526e710acd6b>\u001b[0m in \u001b[0;36m<module>\u001b[0;34m\u001b[0m\n\u001b[1;32m      2\u001b[0m \u001b[0;34m\u001b[0m\u001b[0m\n\u001b[1;32m      3\u001b[0m \u001b[0mx\u001b[0m \u001b[0;34m=\u001b[0m \u001b[0;36m34.5\u001b[0m\u001b[0;34m\u001b[0m\u001b[0m\n\u001b[0;32m----> 4\u001b[0;31m \u001b[0mprint\u001b[0m\u001b[0;34m(\u001b[0m\u001b[0mbin\u001b[0m\u001b[0;34m(\u001b[0m\u001b[0mx\u001b[0m\u001b[0;34m)\u001b[0m\u001b[0;34m)\u001b[0m\u001b[0;34m\u001b[0m\u001b[0m\n\u001b[0m",
      "\u001b[0;31mTypeError\u001b[0m: 'float' object cannot be interpreted as an integer"
     ]
    }
   ],
   "source": [
    "# 若是浮點數呢?\n",
    "\n",
    "x = 34.5\n",
    "print(bin(x))"
   ]
  },
  {
   "cell_type": "markdown",
   "metadata": {},
   "source": [
    "## 1-2.數值運算常用的函數\n",
    "\n",
    "abs():絕對值<br>\n",
    "pow(x,y):返回x的y次方<br>\n",
    "round():返回四捨五入<br>"
   ]
  },
  {
   "cell_type": "code",
   "execution_count": 6,
   "metadata": {},
   "outputs": [
    {
     "name": "stdout",
     "output_type": "stream",
     "text": [
      "15\n",
      "8\n"
     ]
    }
   ],
   "source": [
    "a=-15\n",
    "print(abs(a))\n",
    "\n",
    "b=2\n",
    "print(pow(b,3))"
   ]
  },
  {
   "cell_type": "code",
   "execution_count": 7,
   "metadata": {},
   "outputs": [
    {
     "name": "stdout",
     "output_type": "stream",
     "text": [
      "33\n",
      "34\n",
      "34\n",
      "34\n"
     ]
    }
   ],
   "source": [
    "a=33.2\n",
    "b=33.5\n",
    "c=33.6\n",
    "d=33.7\n",
    "\n",
    "print(round(a))\n",
    "print(round(b))\n",
    "print(round(c))\n",
    "print(round(d))"
   ]
  },
  {
   "cell_type": "markdown",
   "metadata": {},
   "source": [
    "## 1-3.(TIPS)向上、下取整數\n",
    "\n",
    "向上取整math.ceil(2.3)<br>\n",
    "向下取整math.floor(2.3)"
   ]
  },
  {
   "cell_type": "code",
   "execution_count": 10,
   "metadata": {},
   "outputs": [
    {
     "name": "stdout",
     "output_type": "stream",
     "text": [
      "3\n",
      "2\n"
     ]
    }
   ],
   "source": [
    "import math\n",
    "\n",
    "a=2.3\n",
    "\n",
    "print(math.ceil(a))\n",
    "print(math.floor(a))"
   ]
  },
  {
   "cell_type": "markdown",
   "metadata": {},
   "source": [
    "##########################################################################################################"
   ]
  },
  {
   "cell_type": "markdown",
   "metadata": {},
   "source": [
    "## 2.布林資料"
   ]
  },
  {
   "cell_type": "markdown",
   "metadata": {},
   "source": [
    "## 2-1.認識布林值\n",
    "\n",
    "布林值常用於流程控制中，特別是在條件運算式中id...else，程式可以根據布林值判斷如何執行工作。"
   ]
  },
  {
   "cell_type": "code",
   "execution_count": 17,
   "metadata": {},
   "outputs": [
    {
     "name": "stdout",
     "output_type": "stream",
     "text": [
      "<class 'bool'> <class 'bool'>\n",
      "True False\n"
     ]
    }
   ],
   "source": [
    "x = True\n",
    "y = False\n",
    "\n",
    "print(type(x),type(y))\n",
    "print(x,y)"
   ]
  },
  {
   "cell_type": "markdown",
   "metadata": {},
   "source": [
    "## 2-2.布林值換成整數\n",
    "\n",
    "True=1\n",
    "False=0"
   ]
  },
  {
   "cell_type": "code",
   "execution_count": 19,
   "metadata": {},
   "outputs": [
    {
     "name": "stdout",
     "output_type": "stream",
     "text": [
      "1 0\n",
      "1.0 0.0\n"
     ]
    }
   ],
   "source": [
    "x = True\n",
    "y = False\n",
    "\n",
    "print(int(x),int(y))\n",
    "print(float(x),float(y))"
   ]
  },
  {
   "cell_type": "markdown",
   "metadata": {},
   "source": [
    "###################################################################################################################"
   ]
  },
  {
   "cell_type": "markdown",
   "metadata": {},
   "source": [
    "## 3.字串"
   ]
  },
  {
   "cell_type": "markdown",
   "metadata": {},
   "source": [
    "## 3-1.處理多於一行的字串\n",
    "\n",
    "用三個單引號包夾起來'''xxxxxx'''"
   ]
  },
  {
   "cell_type": "code",
   "execution_count": 20,
   "metadata": {},
   "outputs": [
    {
     "name": "stdout",
     "output_type": "stream",
     "text": [
      "你在幹什麼??\n",
      "我在玩狗!!!!!\n",
      "\n"
     ]
    }
   ],
   "source": [
    "str1 = '''你在幹什麼??\n",
    "我在玩狗!!!!!\n",
    "'''\n",
    "\n",
    "print(str1)"
   ]
  },
  {
   "cell_type": "markdown",
   "metadata": {},
   "source": [
    "## 3-2.逸出字元\n",
    "\n",
    "![](https://images2.imgbox.com/98/bc/a2rzzsEn_o.jpeg)"
   ]
  },
  {
   "cell_type": "markdown",
   "metadata": {},
   "source": [
    "## 3-3. 字元資料的轉換\n",
    "\n",
    "如果一個字串含一個字元或一個文字時，我們可以利用以下執行資料轉換:\n",
    "\n",
    "- chr(x):可以傳回x值的字元，x是ASCII碼值\n",
    "- ord(x):可以傳回函數字元參數的Unicode碼值，如果是中文字也可以傳回Unicode碼值，如果是英文字，則ASCII和Unicode值一樣。"
   ]
  },
  {
   "cell_type": "code",
   "execution_count": 30,
   "metadata": {},
   "outputs": [
    {
     "name": "stdout",
     "output_type": "stream",
     "text": [
      "c\n",
      "\n",
      "\n",
      "99\n",
      "\n",
      "\n",
      "100\n",
      "21555\n"
     ]
    }
   ],
   "source": [
    "a=99\n",
    "b='d'\n",
    "c='吳'\n",
    "\n",
    "\n",
    "print(chr(a))\n",
    "#print(chr(b))  #chr()參數必須是ASCII值\n",
    "#print(chr(c))\n",
    "\n",
    "\n",
    "print('\\n')\n",
    "\n",
    "d=chr(a)\n",
    "print(ord(d))  # 輸出Unicode值\n",
    "\n",
    "\n",
    "print('\\n')\n",
    "\n",
    "\n",
    "print(ord(b))\n",
    "print(ord(c))"
   ]
  },
  {
   "cell_type": "code",
   "execution_count": null,
   "metadata": {},
   "outputs": [],
   "source": []
  },
  {
   "cell_type": "code",
   "execution_count": null,
   "metadata": {},
   "outputs": [],
   "source": []
  },
  {
   "cell_type": "code",
   "execution_count": null,
   "metadata": {},
   "outputs": [],
   "source": []
  }
 ],
 "metadata": {
  "kernelspec": {
   "display_name": "Python 3",
   "language": "python",
   "name": "python3"
  },
  "language_info": {
   "codemirror_mode": {
    "name": "ipython",
    "version": 3
   },
   "file_extension": ".py",
   "mimetype": "text/x-python",
   "name": "python",
   "nbconvert_exporter": "python",
   "pygments_lexer": "ipython3",
   "version": "3.6.3"
  }
 },
 "nbformat": 4,
 "nbformat_minor": 2
}
