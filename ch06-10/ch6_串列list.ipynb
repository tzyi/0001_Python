{
 "cells": [
  {
   "cell_type": "markdown",
   "metadata": {},
   "source": [
    "# ch6_串列list"
   ]
  },
  {
   "cell_type": "code",
   "execution_count": null,
   "metadata": {},
   "outputs": [],
   "source": [
    "> 6-1. list基本操作\n",
    "> 6-2. list的拷貝\n",
    "> 6-3. 再談字串str\n",
    "> 6-4. in 和 not in\n",
    "> 6-5. is 和 is not\n",
    "> 6-6. enumerate物件"
   ]
  },
  {
   "cell_type": "markdown",
   "metadata": {},
   "source": [
    "## 6-1. list基本操作\n",
    "\n",
    "(1)  list讀取<br>\n",
    "(2)  list統計 max()、min()、sum()<br>\n",
    "(3)  list個數 len()<br>\n",
    "(4)  更改元素內容<br>\n",
    "(5)  list相加、相乘一個數字<br>\n",
    "(6)  list元素的加法運作<br>\n",
    "(7)  刪除list元素 del<br>\n",
    "(8)  list為空list判斷<br>\n",
    "(9)  刪除list<br>\n",
    "(10) lower()、upper()、title()、rstrip()、lstrip()、strip()<br>\n",
    "(11) dir()<br>\n",
    "(12) append()、insert()、pop()、remove()<br>\n",
    "(13) list的排序:reverse()、sort()、sorted()<br>\n",
    "(14) list進階操作:index()、count()、join()<br>\n",
    "(15) list中含list、再談append()、extend()<br>"
   ]
  },
  {
   "cell_type": "code",
   "execution_count": null,
   "metadata": {},
   "outputs": [],
   "source": []
  },
  {
   "cell_type": "code",
   "execution_count": null,
   "metadata": {},
   "outputs": [],
   "source": []
  },
  {
   "cell_type": "code",
   "execution_count": null,
   "metadata": {},
   "outputs": [],
   "source": []
  },
  {
   "cell_type": "code",
   "execution_count": null,
   "metadata": {},
   "outputs": [],
   "source": []
  },
  {
   "cell_type": "code",
   "execution_count": null,
   "metadata": {},
   "outputs": [],
   "source": []
  }
 ],
 "metadata": {
  "kernelspec": {
   "display_name": "Python 3",
   "language": "python",
   "name": "python3"
  },
  "language_info": {
   "codemirror_mode": {
    "name": "ipython",
    "version": 3
   },
   "file_extension": ".py",
   "mimetype": "text/x-python",
   "name": "python",
   "nbconvert_exporter": "python",
   "pygments_lexer": "ipython3",
   "version": "3.6.3"
  }
 },
 "nbformat": 4,
 "nbformat_minor": 2
}
